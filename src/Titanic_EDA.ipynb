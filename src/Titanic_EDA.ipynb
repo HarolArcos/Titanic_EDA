{
 "cells": [
  {
   "cell_type": "code",
   "execution_count": 6,
   "id": "c6a9b23a-8139-4572-9756-1c4dcf1653ee",
   "metadata": {},
   "outputs": [
    {
     "name": "stderr",
     "output_type": "stream",
     "text": [
      "UsageError: unrecognized arguments: # Para mostrar los gráficos dentro del Notebook\n"
     ]
    }
   ],
   "source": [
    "%matplotlib inline  # Para mostrar los gráficos dentro del Notebook\n",
    "\n",
    "from src.load_data import load_data\n",
    "from src.clean_data import clean_data\n",
    "from src.visualization import generate_visualizations\n",
    "\n",
    "# Cargar y limpiar los datos\n",
    "df = load_data(\"data/train_and_test2.csv\")\n",
    "df = clean_data(df)\n",
    "\n",
    "# Generar visualizaciones\n",
    "generate_visualizations(df)\n"
   ]
  },
  {
   "cell_type": "code",
   "execution_count": null,
   "id": "b7970deb-c66f-4da8-9785-4549ffbf1e1f",
   "metadata": {},
   "outputs": [],
   "source": []
  }
 ],
 "metadata": {
  "kernelspec": {
   "display_name": "Python 3 (ipykernel)",
   "language": "python",
   "name": "python3"
  },
  "language_info": {
   "codemirror_mode": {
    "name": "ipython",
    "version": 3
   },
   "file_extension": ".py",
   "mimetype": "text/x-python",
   "name": "python",
   "nbconvert_exporter": "python",
   "pygments_lexer": "ipython3",
   "version": "3.13.2"
  }
 },
 "nbformat": 4,
 "nbformat_minor": 5
}
